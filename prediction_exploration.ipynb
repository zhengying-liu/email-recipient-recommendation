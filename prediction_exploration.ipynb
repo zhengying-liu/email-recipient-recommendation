{
 "cells": [
  {
   "cell_type": "code",
   "execution_count": 1,
   "metadata": {
    "collapsed": false,
    "deletable": true,
    "editable": true,
    "scrolled": true
   },
   "outputs": [],
   "source": [
    "from utils import get_dataframes"
   ]
  },
  {
   "cell_type": "code",
   "execution_count": 2,
   "metadata": {
    "collapsed": false,
    "deletable": true,
    "editable": true
   },
   "outputs": [
    {
     "name": "stdout",
     "output_type": "stream",
     "text": [
      "Constructing list_of_mids...\n",
      "Constructing list_of_recipients...\n",
      "Constructing address book...\n",
      "Add sender to test_info...\n"
     ]
    }
   ],
   "source": [
    "training, training_info, test, test_info = get_dataframes()"
   ]
  },
  {
   "cell_type": "code",
   "execution_count": 3,
   "metadata": {
    "collapsed": false,
    "deletable": true,
    "editable": true,
    "scrolled": false
   },
   "outputs": [
    {
     "data": {
      "text/html": [
       "<div>\n",
       "<table border=\"1\" class=\"dataframe\">\n",
       "  <thead>\n",
       "    <tr style=\"text-align: right;\">\n",
       "      <th></th>\n",
       "      <th>sender</th>\n",
       "      <th>mids</th>\n",
       "      <th>list_of_mids</th>\n",
       "      <th>address_book</th>\n",
       "      <th>number_of_emails</th>\n",
       "      <th>number_of_recipients</th>\n",
       "    </tr>\n",
       "  </thead>\n",
       "  <tbody>\n",
       "    <tr>\n",
       "      <th>0</th>\n",
       "      <td>karen.buckley@enron.com</td>\n",
       "      <td>158713 158697 200301 158679 278595 298162 2002...</td>\n",
       "      <td>[158713, 158697, 200301, 158679, 278595, 29816...</td>\n",
       "      <td>{'jeremy.buss@enron.com': 1, 'sharon.hausinger...</td>\n",
       "      <td>156</td>\n",
       "      <td>540</td>\n",
       "    </tr>\n",
       "    <tr>\n",
       "      <th>1</th>\n",
       "      <td>amr.ibrahim@enron.com</td>\n",
       "      <td>215241 3437 215640 3506 191790 3517 3520 3562 ...</td>\n",
       "      <td>[215241, 3437, 215640, 3506, 191790, 3517, 352...</td>\n",
       "      <td>{'howard.fromer@enron.com': 25, 'robert.neusta...</td>\n",
       "      <td>87</td>\n",
       "      <td>147</td>\n",
       "    </tr>\n",
       "    <tr>\n",
       "      <th>2</th>\n",
       "      <td>andrea.ring@enron.com</td>\n",
       "      <td>270705 270706 270707 270708 270709 270710 2707...</td>\n",
       "      <td>[270705, 270706, 270707, 270708, 270709, 27071...</td>\n",
       "      <td>{'djunek@aeglobalmarkets.com': 1, 'jared.kaise...</td>\n",
       "      <td>124</td>\n",
       "      <td>57</td>\n",
       "    </tr>\n",
       "    <tr>\n",
       "      <th>3</th>\n",
       "      <td>sylvia.hu@enron.com</td>\n",
       "      <td>111444 111422 183084 111412 111347 110883 1105...</td>\n",
       "      <td>[111444, 111422, 183084, 111412, 111347, 11088...</td>\n",
       "      <td>{'elizabeth.sager@enron.com': 8, 'kathy.siess@...</td>\n",
       "      <td>116</td>\n",
       "      <td>351</td>\n",
       "    </tr>\n",
       "    <tr>\n",
       "      <th>4</th>\n",
       "      <td>phillip.platter@enron.com</td>\n",
       "      <td>327074 327384 327385 264443 274124 274125 2741...</td>\n",
       "      <td>[327074, 327384, 327385, 264443, 274124, 27412...</td>\n",
       "      <td>{'debra.davidson@enron.com': 1, 'diane.cutsfor...</td>\n",
       "      <td>83</td>\n",
       "      <td>61</td>\n",
       "    </tr>\n",
       "  </tbody>\n",
       "</table>\n",
       "</div>"
      ],
      "text/plain": [
       "                      sender  \\\n",
       "0    karen.buckley@enron.com   \n",
       "1      amr.ibrahim@enron.com   \n",
       "2      andrea.ring@enron.com   \n",
       "3        sylvia.hu@enron.com   \n",
       "4  phillip.platter@enron.com   \n",
       "\n",
       "                                                mids  \\\n",
       "0  158713 158697 200301 158679 278595 298162 2002...   \n",
       "1  215241 3437 215640 3506 191790 3517 3520 3562 ...   \n",
       "2  270705 270706 270707 270708 270709 270710 2707...   \n",
       "3  111444 111422 183084 111412 111347 110883 1105...   \n",
       "4  327074 327384 327385 264443 274124 274125 2741...   \n",
       "\n",
       "                                        list_of_mids  \\\n",
       "0  [158713, 158697, 200301, 158679, 278595, 29816...   \n",
       "1  [215241, 3437, 215640, 3506, 191790, 3517, 352...   \n",
       "2  [270705, 270706, 270707, 270708, 270709, 27071...   \n",
       "3  [111444, 111422, 183084, 111412, 111347, 11088...   \n",
       "4  [327074, 327384, 327385, 264443, 274124, 27412...   \n",
       "\n",
       "                                        address_book  number_of_emails  \\\n",
       "0  {'jeremy.buss@enron.com': 1, 'sharon.hausinger...               156   \n",
       "1  {'howard.fromer@enron.com': 25, 'robert.neusta...                87   \n",
       "2  {'djunek@aeglobalmarkets.com': 1, 'jared.kaise...               124   \n",
       "3  {'elizabeth.sager@enron.com': 8, 'kathy.siess@...               116   \n",
       "4  {'debra.davidson@enron.com': 1, 'diane.cutsfor...                83   \n",
       "\n",
       "   number_of_recipients  \n",
       "0                   540  \n",
       "1                   147  \n",
       "2                    57  \n",
       "3                   351  \n",
       "4                    61  "
      ]
     },
     "execution_count": 3,
     "metadata": {},
     "output_type": "execute_result"
    }
   ],
   "source": [
    "training[:5]"
   ]
  },
  {
   "cell_type": "code",
   "execution_count": 87,
   "metadata": {
    "collapsed": false,
    "deletable": true,
    "editable": true
   },
   "outputs": [
    {
     "data": {
      "text/html": [
       "<div>\n",
       "<table border=\"1\" class=\"dataframe\">\n",
       "  <thead>\n",
       "    <tr style=\"text-align: right;\">\n",
       "      <th></th>\n",
       "      <th>sender</th>\n",
       "      <th>mids</th>\n",
       "      <th>list_of_mids</th>\n",
       "      <th>address_book</th>\n",
       "      <th>number_of_emails</th>\n",
       "      <th>number_of_recipients</th>\n",
       "    </tr>\n",
       "  </thead>\n",
       "  <tbody>\n",
       "    <tr>\n",
       "      <th>101</th>\n",
       "      <td>sally.beck@enron.com</td>\n",
       "      <td>368551 368552 368553 368554 368555 368556 3685...</td>\n",
       "      <td>[368551, 368552, 368553, 368554, 368555, 36855...</td>\n",
       "      <td>{'elisabeth.mccabe@enron.com': 1, 'julissa.mar...</td>\n",
       "      <td>1426</td>\n",
       "      <td>1242</td>\n",
       "    </tr>\n",
       "    <tr>\n",
       "      <th>7</th>\n",
       "      <td>david.forster@enron.com</td>\n",
       "      <td>17976 17969 17967 17966 18142 17965 17955 1795...</td>\n",
       "      <td>[17976, 17969, 17967, 17966, 18142, 17965, 179...</td>\n",
       "      <td>{'elisabeth.mccabe@enron.com': 1, 'metring@enr...</td>\n",
       "      <td>345</td>\n",
       "      <td>839</td>\n",
       "    </tr>\n",
       "    <tr>\n",
       "      <th>86</th>\n",
       "      <td>susan.scott@enron.com</td>\n",
       "      <td>115278 115276 115277 115275 115273 115274 1152...</td>\n",
       "      <td>[115278, 115276, 115277, 115275, 115273, 11527...</td>\n",
       "      <td>{'awattslaw@earthlink.net': 2, 'cushnice@sce.c...</td>\n",
       "      <td>1625</td>\n",
       "      <td>816</td>\n",
       "    </tr>\n",
       "    <tr>\n",
       "      <th>83</th>\n",
       "      <td>sara.shackleton@enron.com</td>\n",
       "      <td>183029 183030 183031 183032 183033 183034 1830...</td>\n",
       "      <td>[183029, 183030, 183031, 183032, 183033, 18303...</td>\n",
       "      <td>{'bob.butts@enron.com': 5, 'raicher@kmz.com': ...</td>\n",
       "      <td>4350</td>\n",
       "      <td>674</td>\n",
       "    </tr>\n",
       "    <tr>\n",
       "      <th>0</th>\n",
       "      <td>karen.buckley@enron.com</td>\n",
       "      <td>158713 158697 200301 158679 278595 298162 2002...</td>\n",
       "      <td>[158713, 158697, 200301, 158679, 278595, 29816...</td>\n",
       "      <td>{'ace.roman@enron.com': 1, 'zachary.sampson@en...</td>\n",
       "      <td>156</td>\n",
       "      <td>540</td>\n",
       "    </tr>\n",
       "  </tbody>\n",
       "</table>\n",
       "</div>"
      ],
      "text/plain": [
       "                        sender  \\\n",
       "101       sally.beck@enron.com   \n",
       "7      david.forster@enron.com   \n",
       "86       susan.scott@enron.com   \n",
       "83   sara.shackleton@enron.com   \n",
       "0      karen.buckley@enron.com   \n",
       "\n",
       "                                                  mids  \\\n",
       "101  368551 368552 368553 368554 368555 368556 3685...   \n",
       "7    17976 17969 17967 17966 18142 17965 17955 1795...   \n",
       "86   115278 115276 115277 115275 115273 115274 1152...   \n",
       "83   183029 183030 183031 183032 183033 183034 1830...   \n",
       "0    158713 158697 200301 158679 278595 298162 2002...   \n",
       "\n",
       "                                          list_of_mids  \\\n",
       "101  [368551, 368552, 368553, 368554, 368555, 36855...   \n",
       "7    [17976, 17969, 17967, 17966, 18142, 17965, 179...   \n",
       "86   [115278, 115276, 115277, 115275, 115273, 11527...   \n",
       "83   [183029, 183030, 183031, 183032, 183033, 18303...   \n",
       "0    [158713, 158697, 200301, 158679, 278595, 29816...   \n",
       "\n",
       "                                          address_book  number_of_emails  \\\n",
       "101  {'elisabeth.mccabe@enron.com': 1, 'julissa.mar...              1426   \n",
       "7    {'elisabeth.mccabe@enron.com': 1, 'metring@enr...               345   \n",
       "86   {'awattslaw@earthlink.net': 2, 'cushnice@sce.c...              1625   \n",
       "83   {'bob.butts@enron.com': 5, 'raicher@kmz.com': ...              4350   \n",
       "0    {'ace.roman@enron.com': 1, 'zachary.sampson@en...               156   \n",
       "\n",
       "     number_of_recipients  \n",
       "101                  1242  \n",
       "7                     839  \n",
       "86                    816  \n",
       "83                    674  \n",
       "0                     540  "
      ]
     },
     "execution_count": 87,
     "metadata": {},
     "output_type": "execute_result"
    }
   ],
   "source": [
    "training.sort_values(by=\"number_of_recipients\", ascending=False)[:5]"
   ]
  },
  {
   "cell_type": "code",
   "execution_count": 4,
   "metadata": {
    "collapsed": false,
    "deletable": true,
    "editable": true
   },
   "outputs": [
    {
     "data": {
      "text/html": [
       "<div>\n",
       "<table border=\"1\" class=\"dataframe\">\n",
       "  <thead>\n",
       "    <tr style=\"text-align: right;\">\n",
       "      <th></th>\n",
       "      <th>mid</th>\n",
       "      <th>date</th>\n",
       "      <th>body</th>\n",
       "      <th>recipients</th>\n",
       "      <th>list_of_recipients</th>\n",
       "      <th>sender</th>\n",
       "    </tr>\n",
       "  </thead>\n",
       "  <tbody>\n",
       "    <tr>\n",
       "      <th>0</th>\n",
       "      <td>60</td>\n",
       "      <td>2000-07-25 08:14:00</td>\n",
       "      <td>Legal has been assessing the risks of doing bl...</td>\n",
       "      <td>robert.badeer@enron.com murray.o neil@enron.co...</td>\n",
       "      <td>[robert.badeer@enron.com, neil@enron.com, tim....</td>\n",
       "      <td>104</td>\n",
       "    </tr>\n",
       "    <tr>\n",
       "      <th>1</th>\n",
       "      <td>66</td>\n",
       "      <td>2000-08-03 02:56:00</td>\n",
       "      <td>Attached is a spreadsheet to estimate export f...</td>\n",
       "      <td>kim.ward@enron.com robert.badeer@enron.com mur...</td>\n",
       "      <td>[kim.ward@enron.com, robert.badeer@enron.com, ...</td>\n",
       "      <td>113</td>\n",
       "    </tr>\n",
       "    <tr>\n",
       "      <th>2</th>\n",
       "      <td>74</td>\n",
       "      <td>2000-08-15 05:37:00</td>\n",
       "      <td>Kevin/Bob: Here is a quick rundown on the cons...</td>\n",
       "      <td>robert.badeer@enron.com john.massey@enron.com ...</td>\n",
       "      <td>[robert.badeer@enron.com, john.massey@enron.co...</td>\n",
       "      <td>49</td>\n",
       "    </tr>\n",
       "    <tr>\n",
       "      <th>3</th>\n",
       "      <td>80</td>\n",
       "      <td>2000-08-20 14:12:00</td>\n",
       "      <td>check this out and let everyone know what s up...</td>\n",
       "      <td>robert.badeer@enron.com jeff.richter@enron.com</td>\n",
       "      <td>[robert.badeer@enron.com, jeff.richter@enron.com]</td>\n",
       "      <td>117</td>\n",
       "    </tr>\n",
       "    <tr>\n",
       "      <th>4</th>\n",
       "      <td>83</td>\n",
       "      <td>2000-08-22 08:17:00</td>\n",
       "      <td>Further to your letter to us (addressed to Mr....</td>\n",
       "      <td>pgillman@schiffhardin.com kamarlantes@calpx.co...</td>\n",
       "      <td>[pgillman@schiffhardin.com, kamarlantes@calpx....</td>\n",
       "      <td>104</td>\n",
       "    </tr>\n",
       "  </tbody>\n",
       "</table>\n",
       "</div>"
      ],
      "text/plain": [
       "   mid                 date  \\\n",
       "0   60  2000-07-25 08:14:00   \n",
       "1   66  2000-08-03 02:56:00   \n",
       "2   74  2000-08-15 05:37:00   \n",
       "3   80  2000-08-20 14:12:00   \n",
       "4   83  2000-08-22 08:17:00   \n",
       "\n",
       "                                                body  \\\n",
       "0  Legal has been assessing the risks of doing bl...   \n",
       "1  Attached is a spreadsheet to estimate export f...   \n",
       "2  Kevin/Bob: Here is a quick rundown on the cons...   \n",
       "3  check this out and let everyone know what s up...   \n",
       "4  Further to your letter to us (addressed to Mr....   \n",
       "\n",
       "                                          recipients  \\\n",
       "0  robert.badeer@enron.com murray.o neil@enron.co...   \n",
       "1  kim.ward@enron.com robert.badeer@enron.com mur...   \n",
       "2  robert.badeer@enron.com john.massey@enron.com ...   \n",
       "3     robert.badeer@enron.com jeff.richter@enron.com   \n",
       "4  pgillman@schiffhardin.com kamarlantes@calpx.co...   \n",
       "\n",
       "                                  list_of_recipients sender  \n",
       "0  [robert.badeer@enron.com, neil@enron.com, tim....    104  \n",
       "1  [kim.ward@enron.com, robert.badeer@enron.com, ...    113  \n",
       "2  [robert.badeer@enron.com, john.massey@enron.co...     49  \n",
       "3  [robert.badeer@enron.com, jeff.richter@enron.com]    117  \n",
       "4  [pgillman@schiffhardin.com, kamarlantes@calpx....    104  "
      ]
     },
     "execution_count": 4,
     "metadata": {},
     "output_type": "execute_result"
    }
   ],
   "source": [
    "training_info[:5]"
   ]
  },
  {
   "cell_type": "code",
   "execution_count": 92,
   "metadata": {
    "collapsed": false,
    "deletable": true,
    "editable": true
   },
   "outputs": [
    {
     "name": "stdout",
     "output_type": "stream",
     "text": [
      "Number of receivers with more than 1 mail(s): 278\n"
     ]
    },
    {
     "data": {
      "text/plain": [
       "[('michelle.cash@enron.com', 63),\n",
       " ('kriste.sullivan@enron.com', 59),\n",
       " ('bonnie.white@enron.com', 55),\n",
       " ('rick.johnson@enron.com', 45),\n",
       " ('bonne.castellano@enron.com', 45),\n",
       " ('felecia.acevedo@enron.com', 41),\n",
       " ('scott.walker@enron.com', 41),\n",
       " ('gilda.parker@enron.com', 41),\n",
       " ('mecole.brown@enron.com', 31),\n",
       " ('james.derrick@enron.com', 30),\n",
       " ('david.nutt@enron.com', 28),\n",
       " ('sharon.butcher@enron.com', 23),\n",
       " ('rex.rogers@enron.com', 22),\n",
       " ('drew.fossum@enron.com', 22),\n",
       " ('jim.armogida@enron.com', 19),\n",
       " ('clement.abrams@enron.com', 19),\n",
       " ('katy.gottsponer@enron.com', 19),\n",
       " ('daniel.rogers@enron.com', 17),\n",
       " ('rita.bahner@enron.com', 17),\n",
       " ('mark.holsworth@enron.com', 16),\n",
       " ('rob.walls@enron.com', 16),\n",
       " ('kay.mann@enron.com', 16),\n",
       " ('susan.bulgawicz@enron.com', 15),\n",
       " ('colleen.raker@enron.com', 15),\n",
       " ('louis.soldano@enron.com', 15),\n",
       " ('jordan.mintz@enron.com', 15),\n",
       " ('jan.cooley@enron.com', 14),\n",
       " ('robert.vote@enron.com', 14),\n",
       " ('drew.lynch@enron.com', 13),\n",
       " ('lance.schuler-legal@enron.com', 13),\n",
       " ('gail.brownfeld@enron.com', 13),\n",
       " ('michelle.blaine@enron.com', 13),\n",
       " ('elaine.overturf@enron.com', 13),\n",
       " ('twanda.sweet@enron.com', 12),\n",
       " ('tana.jones@enron.com', 12),\n",
       " ('lizzette.palmer@enron.com', 12),\n",
       " ('e..haedicke@enron.com', 12),\n",
       " ('diane.goode@enron.com', 12),\n",
       " ('ann.ballard@enron.com', 11),\n",
       " ('majed.nachawati@enron.com', 11),\n",
       " ('kelly.higgason@enron.com', 11),\n",
       " ('elizabeth.linnell@enron.com', 10),\n",
       " ('robert.williams@enron.com', 10),\n",
       " ('frank.sayre@enron.com', 10),\n",
       " ('mark.e.taylor@enron.com', 10),\n",
       " ('cole.brown@enron.com', 10),\n",
       " ('michael.terraso@enron.com', 9),\n",
       " ('martha.braddy@enron.com', 9),\n",
       " ('eric.gillaspie@enron.com', 9),\n",
       " ('vicki.sharp@enron.com', 9)]"
      ]
     },
     "execution_count": 92,
     "metadata": {},
     "output_type": "execute_result"
    }
   ],
   "source": [
    "import operator\n",
    "sender = 3\n",
    "threshold = 1\n",
    "sorted_receivers = sorted(training.address_book[sender].items(), key=operator.itemgetter(1), reverse=True)\n",
    "sorted_receivers = [(k,v) for (k,v) in sorted_receivers if v > threshold]\n",
    "print(\"Number of receivers with more than %d mail(s): %d\" % (threshold, len(sorted_receivers)))\n",
    "sorted_receivers = sorted_receivers[:50]\n",
    "sorted_receivers"
   ]
  },
  {
   "cell_type": "code",
   "execution_count": 26,
   "metadata": {
    "collapsed": false
   },
   "outputs": [
    {
     "data": {
      "text/plain": [
       "{'alex@pira.com': 77}"
      ]
     },
     "execution_count": 26,
     "metadata": {},
     "output_type": "execute_result"
    }
   ],
   "source": [
    "training.iloc[38].address_book"
   ]
  },
  {
   "cell_type": "code",
   "execution_count": 6,
   "metadata": {
    "collapsed": false,
    "deletable": true,
    "editable": true
   },
   "outputs": [],
   "source": [
    "grouped_train = training_info.groupby(\"sender\")\n",
    "grouped_test = test_info.groupby(\"sender\")"
   ]
  },
  {
   "cell_type": "code",
   "execution_count": 103,
   "metadata": {
    "collapsed": false,
    "deletable": true,
    "editable": true
   },
   "outputs": [
    {
     "name": "stdout",
     "output_type": "stream",
     "text": [
      "Splitting into train and test set...\n"
     ]
    },
    {
     "data": {
      "text/plain": [
       "{'anne.labbe@enron.com': 2,\n",
       " 'ashu.tewari@enron.com': 1,\n",
       " 'barbara.keen@enron.com': 1,\n",
       " 'bdchitw@ppco.com': 1,\n",
       " 'beverly.beaty@enron.com': 4,\n",
       " 'brad.mckay@enron.com': 1,\n",
       " 'chris.germany@enron.com': 1,\n",
       " 'colleen.sullivan@enron.com': 1,\n",
       " 'cphaugneland@duke-energy.com': 1,\n",
       " 'craig.taylor@enron.com': 2,\n",
       " 'dan.junek@enron.com': 2,\n",
       " 'dana.jones@enron.com': 1,\n",
       " 'dick.jenkins@enron.com': 1,\n",
       " 'djunek@aeglobalmarkets.com': 1,\n",
       " 'edward.terry@enron.com': 1,\n",
       " 'elizabeth.hernandez@enron.com': 1,\n",
       " 'ellen.wallumrod@enron.com': 1,\n",
       " 'frank.davis@enron.com': 3,\n",
       " 'gretchen.lotz@enron.com': 1,\n",
       " 'janine.cashin@enron.com': 1,\n",
       " 'jared.kaiser@enron.com': 2,\n",
       " 'jeanie.slone@enron.com': 1,\n",
       " 'joan.quick@enron.com': 1,\n",
       " 'john.taylor@enron.com': 3,\n",
       " 'judy.townsend@enron.com': 1,\n",
       " 'karen.mcilvoy@enron.com': 9,\n",
       " 'kathryn.bussell@enron.com': 1,\n",
       " 'kimberly.brown@enron.com': 1,\n",
       " 'l..hernandez@enron.com': 1,\n",
       " 'laura.luce@enron.com': 1,\n",
       " 'laura.pena@enron.com': 1,\n",
       " 'mark.frevert@enron.com': 1,\n",
       " 'michael.mousteiko@enron.com': 5,\n",
       " 'michele.winckowski@enron.com': 20,\n",
       " 'outlook.team@enron.com': 1,\n",
       " 'peter.keavey@enron.com': 1,\n",
       " 'priscilla.hamic@enron.com': 1,\n",
       " 'rbanks@mariner-energy.com': 2,\n",
       " 'richard.ring@enron.com': 22,\n",
       " 'rjenkins13@aol.com': 1,\n",
       " 'robin.barbe@enron.com': 2,\n",
       " 'sandra.f.brawner@enron.com': 15,\n",
       " 'sarah.mulholland@enron.com': 2,\n",
       " 'schristianson@ceg.com': 1,\n",
       " 'scott.goodell@enron.com': 1,\n",
       " 'scott.hendrickson@enron.com': 1,\n",
       " 'scott.neal@enron.com': 1,\n",
       " 'sean.boyle@enron.com': 1,\n",
       " 'stephanie.miller@enron.com': 1,\n",
       " 'susan.jones@neg.pge.com': 3,\n",
       " 'susan.pereira@enron.com': 1,\n",
       " 'tammi.depaolis@enron.com': 1,\n",
       " 'terri.fiandt@enron.com': 5,\n",
       " 'tricia.spence@enron.com': 1,\n",
       " 'valerie.curtis@enron.com': 1,\n",
       " 'victor.lamadrid@enron.com': 2,\n",
       " 'victoria.versen@enron.com': 1}"
      ]
     },
     "execution_count": 103,
     "metadata": {},
     "output_type": "execute_result"
    }
   ],
   "source": [
    "sender = 2\n",
    "df_train = grouped_train.get_group(sender).reset_index()\n",
    "\n",
    "from evaluation import split_train_test\n",
    "\n",
    "training_info_t, training_info_v = split_train_test(df_train)\n",
    "address_book = training.address_book[sender]\n",
    "address_book"
   ]
  },
  {
   "cell_type": "code",
   "execution_count": 52,
   "metadata": {
    "collapsed": false
   },
   "outputs": [
    {
     "name": "stdout",
     "output_type": "stream",
     "text": [
      "The autoreload extension is already loaded. To reload it, use:\n",
      "  %reload_ext autoreload\n"
     ]
    }
   ],
   "source": [
    "%load_ext autoreload\n",
    "%autoreload 2"
   ]
  },
  {
   "cell_type": "code",
   "execution_count": 104,
   "metadata": {
    "collapsed": false
   },
   "outputs": [
    {
     "name": "stdout",
     "output_type": "stream",
     "text": [
      "**************************************************\n",
      "['rjenkins13@aol.com']\n",
      "[(1.0, 15, 39), (0.0, 22, 37), (0.0, 20, 32), (0.0, 9, 25), (0.0, 5, 49), (0.0, 5, 31), (0.0, 4, 4), (0.0, 3, 46), (0.0, 3, 23), (0.0, 3, 17)]\n",
      "['sandra.f.brawner@enron.com' 'richard.ring@enron.com'\n",
      " 'michele.winckowski@enron.com' 'karen.mcilvoy@enron.com'\n",
      " 'terri.fiandt@enron.com' 'michael.mousteiko@enron.com'\n",
      " 'beverly.beaty@enron.com' 'susan.jones@neg.pge.com'\n",
      " 'john.taylor@enron.com' 'frank.davis@enron.com']\n",
      "**************************************************\n",
      "**************************************************\n",
      "['michele.winckowski@enron.com']\n",
      "[(0.0, 22, 37), (0.0, 20, 32), (0.0, 15, 39), (0.0, 9, 25), (0.0, 5, 49), (0.0, 5, 31), (0.0, 4, 4), (0.0, 3, 46), (0.0, 3, 23), (0.0, 3, 17)]\n",
      "['richard.ring@enron.com' 'michele.winckowski@enron.com'\n",
      " 'sandra.f.brawner@enron.com' 'karen.mcilvoy@enron.com'\n",
      " 'terri.fiandt@enron.com' 'michael.mousteiko@enron.com'\n",
      " 'beverly.beaty@enron.com' 'susan.jones@neg.pge.com'\n",
      " 'john.taylor@enron.com' 'frank.davis@enron.com']\n",
      "**************************************************\n",
      "**************************************************\n",
      "['scott.neal@enron.com']\n",
      "[(1.0, 3, 23), (0.0, 22, 37), (0.0, 20, 32), (0.0, 15, 39), (0.0, 9, 25), (0.0, 5, 49), (0.0, 5, 31), (0.0, 4, 4), (0.0, 3, 46), (0.0, 3, 17)]\n",
      "['john.taylor@enron.com' 'richard.ring@enron.com'\n",
      " 'michele.winckowski@enron.com' 'sandra.f.brawner@enron.com'\n",
      " 'karen.mcilvoy@enron.com' 'terri.fiandt@enron.com'\n",
      " 'michael.mousteiko@enron.com' 'beverly.beaty@enron.com'\n",
      " 'susan.jones@neg.pge.com' 'frank.davis@enron.com']\n",
      "**************************************************\n",
      "**************************************************\n",
      "['terri.fiandt@enron.com']\n",
      "[(1.0, 15, 39), (0.0, 22, 37), (0.0, 20, 32), (0.0, 9, 25), (0.0, 5, 49), (0.0, 5, 31), (0.0, 4, 4), (0.0, 3, 46), (0.0, 3, 23), (0.0, 3, 17)]\n",
      "['sandra.f.brawner@enron.com' 'richard.ring@enron.com'\n",
      " 'michele.winckowski@enron.com' 'karen.mcilvoy@enron.com'\n",
      " 'terri.fiandt@enron.com' 'michael.mousteiko@enron.com'\n",
      " 'beverly.beaty@enron.com' 'susan.jones@neg.pge.com'\n",
      " 'john.taylor@enron.com' 'frank.davis@enron.com']\n",
      "**************************************************\n",
      "**************************************************\n",
      "['rbanks@mariner-energy.com']\n",
      "[(1.0, 2, 9), (0.66666666666666663, 15, 39), (0.0, 22, 37), (0.0, 20, 32), (0.0, 9, 25), (0.0, 5, 49), (0.0, 5, 31), (0.0, 4, 4), (0.0, 3, 46), (0.0, 3, 23)]\n",
      "['craig.taylor@enron.com' 'sandra.f.brawner@enron.com'\n",
      " 'richard.ring@enron.com' 'michele.winckowski@enron.com'\n",
      " 'karen.mcilvoy@enron.com' 'terri.fiandt@enron.com'\n",
      " 'michael.mousteiko@enron.com' 'beverly.beaty@enron.com'\n",
      " 'susan.jones@neg.pge.com' 'john.taylor@enron.com']\n",
      "**************************************************\n",
      "**************************************************\n",
      "['richard.ring@enron.com']\n",
      "[(0.0, 22, 37), (0.0, 20, 32), (0.0, 15, 39), (0.0, 9, 25), (0.0, 5, 49), (0.0, 5, 31), (0.0, 4, 4), (0.0, 3, 46), (0.0, 3, 23), (0.0, 3, 17)]\n",
      "['richard.ring@enron.com' 'michele.winckowski@enron.com'\n",
      " 'sandra.f.brawner@enron.com' 'karen.mcilvoy@enron.com'\n",
      " 'terri.fiandt@enron.com' 'michael.mousteiko@enron.com'\n",
      " 'beverly.beaty@enron.com' 'susan.jones@neg.pge.com'\n",
      " 'john.taylor@enron.com' 'frank.davis@enron.com']\n",
      "**************************************************\n",
      "**************************************************\n",
      "['richard.ring@enron.com']\n",
      "[(1.0, 15, 39), (1.0, 5, 31), (0.5, 9, 25), (0.5, 2, 9), (0.0, 22, 37), (0.0, 20, 32), (0.0, 5, 49), (0.0, 4, 4), (0.0, 3, 46), (0.0, 3, 23)]\n",
      "['sandra.f.brawner@enron.com' 'michael.mousteiko@enron.com'\n",
      " 'karen.mcilvoy@enron.com' 'craig.taylor@enron.com'\n",
      " 'richard.ring@enron.com' 'michele.winckowski@enron.com'\n",
      " 'terri.fiandt@enron.com' 'beverly.beaty@enron.com'\n",
      " 'susan.jones@neg.pge.com' 'john.taylor@enron.com']\n",
      "**************************************************\n",
      "**************************************************\n",
      "['terri.fiandt@enron.com']\n",
      "[(1.0, 20, 32), (1.0, 3, 46), (1.0, 2, 10), (0.66666666666666663, 15, 39), (0.0, 22, 37), (0.0, 9, 25), (0.0, 5, 49), (0.0, 5, 31), (0.0, 4, 4), (0.0, 3, 23)]\n",
      "['michele.winckowski@enron.com' 'susan.jones@neg.pge.com'\n",
      " 'dan.junek@enron.com' 'sandra.f.brawner@enron.com'\n",
      " 'richard.ring@enron.com' 'karen.mcilvoy@enron.com'\n",
      " 'terri.fiandt@enron.com' 'michael.mousteiko@enron.com'\n",
      " 'beverly.beaty@enron.com' 'john.taylor@enron.com']\n",
      "**************************************************\n",
      "**************************************************\n",
      "['michele.winckowski@enron.com']\n",
      "[(1.0, 20, 32), (0.0, 22, 37), (0.0, 15, 39), (0.0, 9, 25), (0.0, 5, 49), (0.0, 5, 31), (0.0, 4, 4), (0.0, 3, 46), (0.0, 3, 23), (0.0, 3, 17)]\n",
      "['michele.winckowski@enron.com' 'richard.ring@enron.com'\n",
      " 'sandra.f.brawner@enron.com' 'karen.mcilvoy@enron.com'\n",
      " 'terri.fiandt@enron.com' 'michael.mousteiko@enron.com'\n",
      " 'beverly.beaty@enron.com' 'susan.jones@neg.pge.com'\n",
      " 'john.taylor@enron.com' 'frank.davis@enron.com']\n",
      "**************************************************\n",
      "**************************************************\n",
      "['richard.ring@enron.com']\n",
      "[(1.0, 2, 9), (0.0, 22, 37), (0.0, 20, 32), (0.0, 15, 39), (0.0, 9, 25), (0.0, 5, 49), (0.0, 5, 31), (0.0, 4, 4), (0.0, 3, 46), (0.0, 3, 23)]\n",
      "['craig.taylor@enron.com' 'richard.ring@enron.com'\n",
      " 'michele.winckowski@enron.com' 'sandra.f.brawner@enron.com'\n",
      " 'karen.mcilvoy@enron.com' 'terri.fiandt@enron.com'\n",
      " 'michael.mousteiko@enron.com' 'beverly.beaty@enron.com'\n",
      " 'susan.jones@neg.pge.com' 'john.taylor@enron.com']\n",
      "**************************************************\n",
      "**************************************************\n",
      "['michele.winckowski@enron.com']\n",
      "[(1.0, 15, 39), (0.0, 22, 37), (0.0, 20, 32), (0.0, 9, 25), (0.0, 5, 49), (0.0, 5, 31), (0.0, 4, 4), (0.0, 3, 46), (0.0, 3, 23), (0.0, 3, 17)]\n",
      "['sandra.f.brawner@enron.com' 'richard.ring@enron.com'\n",
      " 'michele.winckowski@enron.com' 'karen.mcilvoy@enron.com'\n",
      " 'terri.fiandt@enron.com' 'michael.mousteiko@enron.com'\n",
      " 'beverly.beaty@enron.com' 'susan.jones@neg.pge.com'\n",
      " 'john.taylor@enron.com' 'frank.davis@enron.com']\n",
      "**************************************************\n",
      "**************************************************\n",
      "['laura.luce@enron.com']\n",
      "[(0.66666666666666663, 15, 39), (0.0, 22, 37), (0.0, 20, 32), (0.0, 9, 25), (0.0, 5, 49), (0.0, 5, 31), (0.0, 4, 4), (0.0, 3, 46), (0.0, 3, 23), (0.0, 3, 17)]\n",
      "['sandra.f.brawner@enron.com' 'richard.ring@enron.com'\n",
      " 'michele.winckowski@enron.com' 'karen.mcilvoy@enron.com'\n",
      " 'terri.fiandt@enron.com' 'michael.mousteiko@enron.com'\n",
      " 'beverly.beaty@enron.com' 'susan.jones@neg.pge.com'\n",
      " 'john.taylor@enron.com' 'frank.davis@enron.com']\n",
      "**************************************************\n",
      "**************************************************\n",
      "['sandra.f.brawner@enron.com']\n",
      "[(1.0, 15, 39), (0.33333333333333331, 9, 25), (0.0, 22, 37), (0.0, 20, 32), (0.0, 5, 49), (0.0, 5, 31), (0.0, 4, 4), (0.0, 3, 46), (0.0, 3, 23), (0.0, 3, 17)]\n",
      "['sandra.f.brawner@enron.com' 'karen.mcilvoy@enron.com'\n",
      " 'richard.ring@enron.com' 'michele.winckowski@enron.com'\n",
      " 'terri.fiandt@enron.com' 'michael.mousteiko@enron.com'\n",
      " 'beverly.beaty@enron.com' 'susan.jones@neg.pge.com'\n",
      " 'john.taylor@enron.com' 'frank.davis@enron.com']\n",
      "**************************************************\n"
     ]
    }
   ],
   "source": [
    "from feature_extraction import Word2VecFeatureExtractor\n",
    "from multilabel import MultilabelClassifier\n",
    "\n",
    "feature_extractor = Word2VecFeatureExtractor()\n",
    "model = MultilabelClassifier(feature_extractor=feature_extractor)\n",
    "model.fit(training_info_t)\n",
    "pred_df = model.predict(training_info_v, address_book, debug=True)"
   ]
  },
  {
   "cell_type": "code",
   "execution_count": 105,
   "metadata": {
    "collapsed": false
   },
   "outputs": [
    {
     "name": "stdout",
     "output_type": "stream",
     "text": [
      "Calculating the score...\n",
      "0.375091575092\n"
     ]
    }
   ],
   "source": [
    "from evaluation import get_validation_score\n",
    "score = get_validation_score(training_info_v, pred_df)\n",
    "print(score)"
   ]
  }
 ],
 "metadata": {
  "kernelspec": {
   "display_name": "Python 3",
   "language": "python",
   "name": "python3"
  },
  "language_info": {
   "codemirror_mode": {
    "name": "ipython",
    "version": 3
   },
   "file_extension": ".py",
   "mimetype": "text/x-python",
   "name": "python",
   "nbconvert_exporter": "python",
   "pygments_lexer": "ipython3",
   "version": "3.5.1"
  }
 },
 "nbformat": 4,
 "nbformat_minor": 2
}
